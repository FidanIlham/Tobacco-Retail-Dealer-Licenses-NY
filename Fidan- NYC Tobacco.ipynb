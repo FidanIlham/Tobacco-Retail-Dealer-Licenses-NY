{
 "cells": [
  {
   "cell_type": "code",
   "execution_count": 1,
   "metadata": {},
   "outputs": [],
   "source": [
    "import pandas as pd\n",
    "import numpy as np\n",
    "pd.set_option('display.max_columns', 500)\n",
    "\n",
    "import seaborn as sns\n",
    "import matplotlib.pyplot as plt"
   ]
  },
  {
   "cell_type": "code",
   "execution_count": 2,
   "metadata": {},
   "outputs": [],
   "source": [
    "data = pd.read_csv('/Users/FidanIlham/Downloads/Tobacco_Retail.csv')"
   ]
  },
  {
   "cell_type": "code",
   "execution_count": 3,
   "metadata": {},
   "outputs": [
    {
     "data": {
      "text/html": [
       "<div>\n",
       "<style scoped>\n",
       "    .dataframe tbody tr th:only-of-type {\n",
       "        vertical-align: middle;\n",
       "    }\n",
       "\n",
       "    .dataframe tbody tr th {\n",
       "        vertical-align: top;\n",
       "    }\n",
       "\n",
       "    .dataframe thead th {\n",
       "        text-align: right;\n",
       "    }\n",
       "</style>\n",
       "<table border=\"1\" class=\"dataframe\">\n",
       "  <thead>\n",
       "    <tr style=\"text-align: right;\">\n",
       "      <th></th>\n",
       "      <th>Borough</th>\n",
       "      <th>Community Board</th>\n",
       "      <th>COMMUNITY DISTRICT NAME</th>\n",
       "      <th>Tobacco Retail Dealer Cap</th>\n",
       "      <th>Active Tobacco Retail Dealer Licenses</th>\n",
       "      <th>TRD Available Under Cap</th>\n",
       "      <th>Electronic Cigarette Retail Dealer Cap</th>\n",
       "      <th>Active Electronic Cigarette Retail Dealer Licenses</th>\n",
       "      <th>ECD Available Under Cap</th>\n",
       "    </tr>\n",
       "  </thead>\n",
       "  <tbody>\n",
       "    <tr>\n",
       "      <th>0</th>\n",
       "      <td>Bronx</td>\n",
       "      <td>201</td>\n",
       "      <td>Bronx 1</td>\n",
       "      <td>63</td>\n",
       "      <td>105</td>\n",
       "      <td>0</td>\n",
       "      <td>13</td>\n",
       "      <td>26</td>\n",
       "      <td>0</td>\n",
       "    </tr>\n",
       "    <tr>\n",
       "      <th>1</th>\n",
       "      <td>Bronx</td>\n",
       "      <td>202</td>\n",
       "      <td>Bronx 2</td>\n",
       "      <td>36</td>\n",
       "      <td>68</td>\n",
       "      <td>0</td>\n",
       "      <td>5</td>\n",
       "      <td>10</td>\n",
       "      <td>0</td>\n",
       "    </tr>\n",
       "    <tr>\n",
       "      <th>2</th>\n",
       "      <td>Bronx</td>\n",
       "      <td>203</td>\n",
       "      <td>Bronx 3</td>\n",
       "      <td>45</td>\n",
       "      <td>81</td>\n",
       "      <td>0</td>\n",
       "      <td>8</td>\n",
       "      <td>16</td>\n",
       "      <td>0</td>\n",
       "    </tr>\n",
       "    <tr>\n",
       "      <th>3</th>\n",
       "      <td>Bronx</td>\n",
       "      <td>204</td>\n",
       "      <td>Bronx 4</td>\n",
       "      <td>88</td>\n",
       "      <td>150</td>\n",
       "      <td>0</td>\n",
       "      <td>9</td>\n",
       "      <td>18</td>\n",
       "      <td>0</td>\n",
       "    </tr>\n",
       "    <tr>\n",
       "      <th>4</th>\n",
       "      <td>Bronx</td>\n",
       "      <td>205</td>\n",
       "      <td>Bronx 5</td>\n",
       "      <td>68</td>\n",
       "      <td>124</td>\n",
       "      <td>0</td>\n",
       "      <td>14</td>\n",
       "      <td>28</td>\n",
       "      <td>0</td>\n",
       "    </tr>\n",
       "  </tbody>\n",
       "</table>\n",
       "</div>"
      ],
      "text/plain": [
       "  Borough  Community Board COMMUNITY DISTRICT NAME  Tobacco Retail Dealer Cap  \\\n",
       "0   Bronx              201                 Bronx 1                         63   \n",
       "1   Bronx              202                 Bronx 2                         36   \n",
       "2   Bronx              203                 Bronx 3                         45   \n",
       "3   Bronx              204                 Bronx 4                         88   \n",
       "4   Bronx              205                 Bronx 5                         68   \n",
       "\n",
       "   Active Tobacco Retail Dealer Licenses  TRD Available Under Cap  \\\n",
       "0                                    105                        0   \n",
       "1                                     68                        0   \n",
       "2                                     81                        0   \n",
       "3                                    150                        0   \n",
       "4                                    124                        0   \n",
       "\n",
       "   Electronic Cigarette Retail Dealer Cap  \\\n",
       "0                                      13   \n",
       "1                                       5   \n",
       "2                                       8   \n",
       "3                                       9   \n",
       "4                                      14   \n",
       "\n",
       "   Active Electronic Cigarette Retail Dealer Licenses  ECD Available Under Cap  \n",
       "0                                                 26                         0  \n",
       "1                                                 10                         0  \n",
       "2                                                 16                         0  \n",
       "3                                                 18                         0  \n",
       "4                                                 28                         0  "
      ]
     },
     "execution_count": 3,
     "metadata": {},
     "output_type": "execute_result"
    }
   ],
   "source": [
    "data.head()"
   ]
  },
  {
   "cell_type": "code",
   "execution_count": 4,
   "metadata": {},
   "outputs": [
    {
     "data": {
      "image/png": "[encoded data removed]",
      "text/plain": [
       "<Figure size 720x360 with 1 Axes>"
      ]
     },
     "metadata": {
      "needs_background": "light"
     },
     "output_type": "display_data"
    }
   ],
   "source": [
    "borough_count  = data.groupby('Borough').sum()['Active Tobacco Retail Dealer Licenses'].sort_values(ascending=False)\n",
    "borough_count = borough_count[:5,]\n",
    "plt.figure(figsize=(10,5))\n",
    "sns.barplot(borough_count.index, borough_count.values, alpha=0.8)\n",
    "plt.title(' Tobacco Retail Dealer Licenses in NY')\n",
    "plt.ylabel('Quantity', fontsize=12)\n",
    "plt.xticks(rotation = 90)\n",
    "plt.xlabel('Borough', fontsize=12)\n",
    "plt.show()"
   ]
  }
 ],
 "metadata": {
  "kernelspec": {
   "display_name": "Python 3",
   "language": "python",
   "name": "python3"
  },
  "language_info": {
   "codemirror_mode": {
    "name": "ipython",
    "version": 3
   },
   "file_extension": ".py",
   "mimetype": "text/x-python",
   "name": "python",
   "nbconvert_exporter": "python",
   "pygments_lexer": "ipython3",
   "version": "3.7.0"
  }
 },
 "nbformat": 4,
 "nbformat_minor": 2
}
